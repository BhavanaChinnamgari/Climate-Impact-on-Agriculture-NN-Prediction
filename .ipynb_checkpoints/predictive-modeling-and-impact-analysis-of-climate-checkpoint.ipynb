{
 "cells": [
  {
   "cell_type": "code",
   "execution_count": 1,
   "id": "f01bfa10",
   "metadata": {
    "_cell_guid": "b1076dfc-b9ad-4769-8c92-a6c4dae69d19",
    "_uuid": "8f2839f25d086af736a60e9eeb907d3b93b6e0e5",
    "execution": {
     "iopub.execute_input": "2024-10-01T11:03:47.323168Z",
     "iopub.status.busy": "2024-10-01T11:03:47.322036Z",
     "iopub.status.idle": "2024-10-01T11:03:50.244166Z",
     "shell.execute_reply": "2024-10-01T11:03:50.242641Z"
    },
    "papermill": {
     "duration": 2.937538,
     "end_time": "2024-10-01T11:03:50.247305",
     "exception": false,
     "start_time": "2024-10-01T11:03:47.309767",
     "status": "completed"
    },
    "tags": []
   },
   "outputs": [
    {
     "name": "stdout",
     "output_type": "stream",
     "text": [
      "/kaggle/input/climate-change-impact-on-agriculture/climate_change_impact_on_agriculture_2024.csv\n"
     ]
    }
   ],
   "source": [
    "#Importing all the required liberies \n",
    "import numpy as np\n",
    "import pandas as pd\n",
    "import os\n",
    "import seaborn as sns\n",
    "import matplotlib.pyplot as plt\n",
    "\n",
    "import os\n",
    "for dirname, _, filenames in os.walk('/kaggle/input'):\n",
    "    for filename in filenames:\n",
    "        print(os.path.join(dirname, filename))"
   ]
  },
  {
   "cell_type": "code",
   "execution_count": 2,
   "id": "b5933ebb",
   "metadata": {
    "execution": {
     "iopub.execute_input": "2024-10-01T11:03:50.269025Z",
     "iopub.status.busy": "2024-10-01T11:03:50.268295Z",
     "iopub.status.idle": "2024-10-01T11:03:50.354305Z",
     "shell.execute_reply": "2024-10-01T11:03:50.353140Z"
    },
    "papermill": {
     "duration": 0.100195,
     "end_time": "2024-10-01T11:03:50.357267",
     "exception": false,
     "start_time": "2024-10-01T11:03:50.257072",
     "status": "completed"
    },
    "tags": []
   },
   "outputs": [],
   "source": [
    "# Assuming 'climate_change_data.csv' is the file name in the '/kaggle/input' directory\n",
    "data = pd.read_csv('/kaggle/input/climate-change-impact-on-agriculture/climate_change_impact_on_agriculture_2024.csv')"
   ]
  },
  {
   "cell_type": "code",
   "execution_count": 3,
   "id": "9f08c732",
   "metadata": {
    "execution": {
     "iopub.execute_input": "2024-10-01T11:03:50.378609Z",
     "iopub.status.busy": "2024-10-01T11:03:50.378061Z",
     "iopub.status.idle": "2024-10-01T11:03:50.405744Z",
     "shell.execute_reply": "2024-10-01T11:03:50.404372Z"
    },
    "papermill": {
     "duration": 0.042323,
     "end_time": "2024-10-01T11:03:50.409189",
     "exception": false,
     "start_time": "2024-10-01T11:03:50.366866",
     "status": "completed"
    },
    "tags": []
   },
   "outputs": [
    {
     "name": "stdout",
     "output_type": "stream",
     "text": [
      "First 5 Rows of the Dataset:\n",
      "    Year Country         Region  Crop_Type  Average_Temperature_C  \\\n",
      "0  2001   India    West Bengal       Corn                   1.55   \n",
      "1  2024   China          North       Corn                   3.23   \n",
      "2  2001  France  Ile-de-France      Wheat                  21.11   \n",
      "3  2001  Canada       Prairies     Coffee                  27.85   \n",
      "4  1998   India     Tamil Nadu  Sugarcane                   2.19   \n",
      "\n",
      "   Total_Precipitation_mm  CO2_Emissions_MT  Crop_Yield_MT_per_HA  \\\n",
      "0                  447.06             15.22                 1.737   \n",
      "1                 2913.57             29.82                 1.737   \n",
      "2                 1301.74             25.75                 1.719   \n",
      "3                 1154.36             13.91                 3.890   \n",
      "4                 1627.48             11.81                 1.080   \n",
      "\n",
      "   Extreme_Weather_Events  Irrigation_Access_%  Pesticide_Use_KG_per_HA  \\\n",
      "0                       8                14.54                    10.08   \n",
      "1                       8                11.05                    33.06   \n",
      "2                       5                84.42                    27.41   \n",
      "3                       5                94.06                    14.38   \n",
      "4                       9                95.75                    44.35   \n",
      "\n",
      "   Fertilizer_Use_KG_per_HA  Soil_Health_Index Adaptation_Strategies  \\\n",
      "0                     14.78              83.25      Water Management   \n",
      "1                     23.25              54.02         Crop Rotation   \n",
      "2                     65.53              67.78      Water Management   \n",
      "3                     87.58              91.39         No Adaptation   \n",
      "4                     88.08              49.61         Crop Rotation   \n",
      "\n",
      "   Economic_Impact_Million_USD  \n",
      "0                       808.13  \n",
      "1                       616.22  \n",
      "2                       796.96  \n",
      "3                       790.32  \n",
      "4                       401.72  \n"
     ]
    }
   ],
   "source": [
    "# View the first few rows of the DataFrame\n",
    "print(\"First 5 Rows of the Dataset:\\n\", data.head())"
   ]
  },
  {
   "cell_type": "code",
   "execution_count": 4,
   "id": "87df32d3",
   "metadata": {
    "execution": {
     "iopub.execute_input": "2024-10-01T11:03:50.433386Z",
     "iopub.status.busy": "2024-10-01T11:03:50.432068Z",
     "iopub.status.idle": "2024-10-01T11:03:50.448463Z",
     "shell.execute_reply": "2024-10-01T11:03:50.447138Z"
    },
    "papermill": {
     "duration": 0.032688,
     "end_time": "2024-10-01T11:03:50.451728",
     "exception": false,
     "start_time": "2024-10-01T11:03:50.419040",
     "status": "completed"
    },
    "tags": []
   },
   "outputs": [
    {
     "name": "stdout",
     "output_type": "stream",
     "text": [
      "\n",
      "Missing Values in Each Column:\n",
      " Year                           0\n",
      "Country                        0\n",
      "Region                         0\n",
      "Crop_Type                      0\n",
      "Average_Temperature_C          0\n",
      "Total_Precipitation_mm         0\n",
      "CO2_Emissions_MT               0\n",
      "Crop_Yield_MT_per_HA           0\n",
      "Extreme_Weather_Events         0\n",
      "Irrigation_Access_%            0\n",
      "Pesticide_Use_KG_per_HA        0\n",
      "Fertilizer_Use_KG_per_HA       0\n",
      "Soil_Health_Index              0\n",
      "Adaptation_Strategies          0\n",
      "Economic_Impact_Million_USD    0\n",
      "dtype: int64\n"
     ]
    }
   ],
   "source": [
    "# Check for missing values\n",
    "print(\"\\nMissing Values in Each Column:\\n\", data.isnull().sum())"
   ]
  },
  {
   "cell_type": "code",
   "execution_count": 5,
   "id": "8673df35",
   "metadata": {
    "execution": {
     "iopub.execute_input": "2024-10-01T11:03:50.474069Z",
     "iopub.status.busy": "2024-10-01T11:03:50.473111Z",
     "iopub.status.idle": "2024-10-01T11:03:50.520389Z",
     "shell.execute_reply": "2024-10-01T11:03:50.519183Z"
    },
    "papermill": {
     "duration": 0.062165,
     "end_time": "2024-10-01T11:03:50.523765",
     "exception": false,
     "start_time": "2024-10-01T11:03:50.461600",
     "status": "completed"
    },
    "tags": []
   },
   "outputs": [
    {
     "name": "stdout",
     "output_type": "stream",
     "text": [
      "\n",
      "Summary Statistics for Numerical Columns:\n",
      "                Year  Average_Temperature_C  Total_Precipitation_mm  \\\n",
      "count  10000.000000           10000.000000            10000.000000   \n",
      "mean    2007.088700              15.241299             1611.663834   \n",
      "std       10.084245              11.466955              805.016815   \n",
      "min     1990.000000              -4.990000              200.150000   \n",
      "25%     1999.000000               5.430000              925.697500   \n",
      "50%     2007.000000              15.175000             1611.160000   \n",
      "75%     2016.000000              25.340000             2306.997500   \n",
      "max     2024.000000              35.000000             2999.670000   \n",
      "\n",
      "       CO2_Emissions_MT  Crop_Yield_MT_per_HA  Extreme_Weather_Events  \\\n",
      "count      10000.000000          10000.000000            10000.000000   \n",
      "mean          15.246608              2.240017                4.980900   \n",
      "std            8.589423              0.998342                3.165808   \n",
      "min            0.500000              0.450000                0.000000   \n",
      "25%            7.760000              1.449000                2.000000   \n",
      "50%           15.200000              2.170000                5.000000   \n",
      "75%           22.820000              2.930000                8.000000   \n",
      "max           30.000000              5.000000               10.000000   \n",
      "\n",
      "       Irrigation_Access_%  Pesticide_Use_KG_per_HA  Fertilizer_Use_KG_per_HA  \\\n",
      "count         10000.000000             10000.000000              10000.000000   \n",
      "mean             55.248332                24.955735                 49.973708   \n",
      "std              25.988305                14.490962                 28.711027   \n",
      "min              10.010000                 0.000000                  0.010000   \n",
      "25%              32.677500                12.527500                 25.390000   \n",
      "50%              55.175000                24.930000                 49.635000   \n",
      "75%              77.582500                37.470000                 74.825000   \n",
      "max              99.990000                49.990000                 99.990000   \n",
      "\n",
      "       Soil_Health_Index  Economic_Impact_Million_USD  \n",
      "count       10000.000000                 10000.000000  \n",
      "mean           64.901278                   674.269658  \n",
      "std            20.195882                   414.591431  \n",
      "min            30.000000                    47.840000  \n",
      "25%            47.235000                   350.545000  \n",
      "50%            64.650000                   583.920000  \n",
      "75%            82.472500                   917.505000  \n",
      "max           100.000000                  2346.470000  \n"
     ]
    }
   ],
   "source": [
    "# Generate summary statistics for numerical columns\n",
    "print(\"\\nSummary Statistics for Numerical Columns:\\n\", data.describe())"
   ]
  },
  {
   "cell_type": "code",
   "execution_count": 6,
   "id": "f7b00228",
   "metadata": {
    "execution": {
     "iopub.execute_input": "2024-10-01T11:03:50.547890Z",
     "iopub.status.busy": "2024-10-01T11:03:50.547221Z",
     "iopub.status.idle": "2024-10-01T11:03:51.046302Z",
     "shell.execute_reply": "2024-10-01T11:03:51.045151Z"
    },
    "papermill": {
     "duration": 0.51505,
     "end_time": "2024-10-01T11:03:51.050289",
     "exception": false,
     "start_time": "2024-10-01T11:03:50.535239",
     "status": "completed"
    },
    "tags": []
   },
   "outputs": [
    {
     "name": "stderr",
     "output_type": "stream",
     "text": [
      "/opt/conda/lib/python3.10/site-packages/seaborn/_oldcore.py:1119: FutureWarning: use_inf_as_na option is deprecated and will be removed in a future version. Convert inf values to NaN before operating instead.\n",
      "  with pd.option_context('mode.use_inf_as_na', True):\n"
     ]
    },
    {
     "data": {
      "image/png": "[encoded data removed]",
      "text/plain": [
       "<Figure size 640x480 with 1 Axes>"
      ]
     },
     "metadata": {},
     "output_type": "display_data"
    }
   ],
   "source": [
    "# Visualize a Histogram of Average Temperature\n",
    "sns.histplot(data['Average_Temperature_C'], kde=True)\n",
    "plt.title('Distribution of Average Temperature')\n",
    "plt.xlabel('Average Temperature (°C)')\n",
    "plt.show()"
   ]
  },
  {
   "cell_type": "code",
   "execution_count": 7,
   "id": "7e461a86",
   "metadata": {
    "execution": {
     "iopub.execute_input": "2024-10-01T11:03:51.074610Z",
     "iopub.status.busy": "2024-10-01T11:03:51.074062Z",
     "iopub.status.idle": "2024-10-01T11:03:51.083753Z",
     "shell.execute_reply": "2024-10-01T11:03:51.082536Z"
    },
    "papermill": {
     "duration": 0.025114,
     "end_time": "2024-10-01T11:03:51.086629",
     "exception": false,
     "start_time": "2024-10-01T11:03:51.061515",
     "status": "completed"
    },
    "tags": []
   },
   "outputs": [],
   "source": [
    "# Step 2: Define Features and Target Variable\n",
    "features = data[['Average_Temperature_C', 'Total_Precipitation_mm', 'CO2_Emissions_MT', 'Extreme_Weather_Events', \n",
    "                 'Irrigation_Access_%', 'Pesticide_Use_KG_per_HA', 'Fertilizer_Use_KG_per_HA', 'Soil_Health_Index']]\n",
    "target = data['Crop_Yield_MT_per_HA']"
   ]
  },
  {
   "cell_type": "code",
   "execution_count": 8,
   "id": "f01e7b87",
   "metadata": {
    "execution": {
     "iopub.execute_input": "2024-10-01T11:03:51.110347Z",
     "iopub.status.busy": "2024-10-01T11:03:51.109852Z",
     "iopub.status.idle": "2024-10-01T11:03:51.422599Z",
     "shell.execute_reply": "2024-10-01T11:03:51.421403Z"
    },
    "papermill": {
     "duration": 0.327939,
     "end_time": "2024-10-01T11:03:51.425319",
     "exception": false,
     "start_time": "2024-10-01T11:03:51.097380",
     "status": "completed"
    },
    "tags": []
   },
   "outputs": [
    {
     "name": "stdout",
     "output_type": "stream",
     "text": [
      "\n",
      "Data Split into Training and Testing Sets Successfully.\n",
      "\n"
     ]
    }
   ],
   "source": [
    "# Split into training and testing sets\n",
    "from sklearn.model_selection import train_test_split\n",
    "X_train, X_test, y_train, y_test = train_test_split(features, target, test_size=0.2, random_state=42)\n",
    "print(\"\\nData Split into Training and Testing Sets Successfully.\\n\")"
   ]
  },
  {
   "cell_type": "code",
   "execution_count": 9,
   "id": "3274cd42",
   "metadata": {
    "execution": {
     "iopub.execute_input": "2024-10-01T11:03:51.451016Z",
     "iopub.status.busy": "2024-10-01T11:03:51.450501Z",
     "iopub.status.idle": "2024-10-01T11:03:58.720567Z",
     "shell.execute_reply": "2024-10-01T11:03:58.719158Z"
    },
    "papermill": {
     "duration": 7.285737,
     "end_time": "2024-10-01T11:03:58.723584",
     "exception": false,
     "start_time": "2024-10-01T11:03:51.437847",
     "status": "completed"
    },
    "tags": []
   },
   "outputs": [
    {
     "name": "stdout",
     "output_type": "stream",
     "text": [
      "\n",
      "Random Forest Model Trained Successfully.\n",
      "\n"
     ]
    }
   ],
   "source": [
    "# Step 3: Build and Train the Models\n",
    "\n",
    "# 1. Random Forest Regressor\n",
    "from sklearn.ensemble import RandomForestRegressor\n",
    "rf_model = RandomForestRegressor(n_estimators=100, random_state=42)\n",
    "rf_model.fit(X_train, y_train)\n",
    "rf_predictions = rf_model.predict(X_test)\n",
    "print(\"\\nRandom Forest Model Trained Successfully.\\n\")"
   ]
  },
  {
   "cell_type": "code",
   "execution_count": 10,
   "id": "8cf6835b",
   "metadata": {
    "execution": {
     "iopub.execute_input": "2024-10-01T11:03:58.747906Z",
     "iopub.status.busy": "2024-10-01T11:03:58.747382Z",
     "iopub.status.idle": "2024-10-01T11:04:03.171596Z",
     "shell.execute_reply": "2024-10-01T11:04:03.170350Z"
    },
    "papermill": {
     "duration": 4.439932,
     "end_time": "2024-10-01T11:04:03.174492",
     "exception": false,
     "start_time": "2024-10-01T11:03:58.734560",
     "status": "completed"
    },
    "tags": []
   },
   "outputs": [
    {
     "name": "stdout",
     "output_type": "stream",
     "text": [
      "Gradient Boosting Model Trained Successfully.\n",
      "\n"
     ]
    }
   ],
   "source": [
    "# 2. Gradient Boosting Regressor\n",
    "from sklearn.ensemble import GradientBoostingRegressor\n",
    "gb_model = GradientBoostingRegressor(n_estimators=200, learning_rate=0.1, random_state=42)\n",
    "gb_model.fit(X_train, y_train)\n",
    "gb_predictions = gb_model.predict(X_test)\n",
    "print(\"Gradient Boosting Model Trained Successfully.\\n\")"
   ]
  },
  {
   "cell_type": "code",
   "execution_count": 11,
   "id": "b0bc5c35",
   "metadata": {
    "execution": {
     "iopub.execute_input": "2024-10-01T11:04:03.198831Z",
     "iopub.status.busy": "2024-10-01T11:04:03.198324Z",
     "iopub.status.idle": "2024-10-01T11:04:03.869643Z",
     "shell.execute_reply": "2024-10-01T11:04:03.868559Z"
    },
    "papermill": {
     "duration": 0.687115,
     "end_time": "2024-10-01T11:04:03.872745",
     "exception": false,
     "start_time": "2024-10-01T11:04:03.185630",
     "status": "completed"
    },
    "tags": []
   },
   "outputs": [
    {
     "name": "stdout",
     "output_type": "stream",
     "text": [
      "XGBoost Model Trained Successfully.\n",
      "\n"
     ]
    }
   ],
   "source": [
    "# 3. XGBoost Regressor\n",
    "from xgboost import XGBRegressor\n",
    "xgb_model = XGBRegressor(n_estimators=200, learning_rate=0.05, random_state=42)\n",
    "xgb_model.fit(X_train, y_train)\n",
    "xgb_predictions = xgb_model.predict(X_test)\n",
    "print(\"XGBoost Model Trained Successfully.\\n\")"
   ]
  },
  {
   "cell_type": "code",
   "execution_count": 12,
   "id": "98c20016",
   "metadata": {
    "execution": {
     "iopub.execute_input": "2024-10-01T11:04:03.898947Z",
     "iopub.status.busy": "2024-10-01T11:04:03.898389Z",
     "iopub.status.idle": "2024-10-01T11:04:03.904260Z",
     "shell.execute_reply": "2024-10-01T11:04:03.903125Z"
    },
    "papermill": {
     "duration": 0.021747,
     "end_time": "2024-10-01T11:04:03.906752",
     "exception": false,
     "start_time": "2024-10-01T11:04:03.885005",
     "status": "completed"
    },
    "tags": []
   },
   "outputs": [],
   "source": [
    "# Step 4: Evaluate the Models\n",
    "from sklearn.metrics import mean_absolute_error, mean_squared_error, r2_score"
   ]
  },
  {
   "cell_type": "code",
   "execution_count": 13,
   "id": "c63389a4",
   "metadata": {
    "execution": {
     "iopub.execute_input": "2024-10-01T11:04:03.931984Z",
     "iopub.status.busy": "2024-10-01T11:04:03.930642Z",
     "iopub.status.idle": "2024-10-01T11:04:03.937943Z",
     "shell.execute_reply": "2024-10-01T11:04:03.936561Z"
    },
    "papermill": {
     "duration": 0.022945,
     "end_time": "2024-10-01T11:04:03.940850",
     "exception": false,
     "start_time": "2024-10-01T11:04:03.917905",
     "status": "completed"
    },
    "tags": []
   },
   "outputs": [],
   "source": [
    "# Function to Evaluate Models\n",
    "def evaluate_model(y_test, predictions):\n",
    "    mae = mean_absolute_error(y_test, predictions)\n",
    "    mse = mean_squared_error(y_test, predictions)\n",
    "    r2 = r2_score(y_test, predictions)\n",
    "    return {'MAE': mae, 'MSE': mse, 'R² Score': r2}"
   ]
  },
  {
   "cell_type": "code",
   "execution_count": 14,
   "id": "380d80cd",
   "metadata": {
    "execution": {
     "iopub.execute_input": "2024-10-01T11:04:03.965741Z",
     "iopub.status.busy": "2024-10-01T11:04:03.964609Z",
     "iopub.status.idle": "2024-10-01T11:04:03.975081Z",
     "shell.execute_reply": "2024-10-01T11:04:03.973584Z"
    },
    "papermill": {
     "duration": 0.025612,
     "end_time": "2024-10-01T11:04:03.977537",
     "exception": false,
     "start_time": "2024-10-01T11:04:03.951925",
     "status": "completed"
    },
    "tags": []
   },
   "outputs": [
    {
     "name": "stdout",
     "output_type": "stream",
     "text": [
      "Random Forest Results:\n",
      " MAE: 0.7262696399999999, MSE: 0.7403640072358001, R² Score: 0.2985469397323224\n"
     ]
    }
   ],
   "source": [
    "# Evaluate Random Forest\n",
    "rf_results = evaluate_model(y_test, rf_predictions)\n",
    "print(f\"Random Forest Results:\\n MAE: {rf_results['MAE']}, MSE: {rf_results['MSE']}, R² Score: {rf_results['R² Score']}\")"
   ]
  },
  {
   "cell_type": "code",
   "execution_count": 15,
   "id": "c9c17e5f",
   "metadata": {
    "execution": {
     "iopub.execute_input": "2024-10-01T11:04:04.002989Z",
     "iopub.status.busy": "2024-10-01T11:04:04.001891Z",
     "iopub.status.idle": "2024-10-01T11:04:04.011952Z",
     "shell.execute_reply": "2024-10-01T11:04:04.010549Z"
    },
    "papermill": {
     "duration": 0.025426,
     "end_time": "2024-10-01T11:04:04.014476",
     "exception": false,
     "start_time": "2024-10-01T11:04:03.989050",
     "status": "completed"
    },
    "tags": []
   },
   "outputs": [
    {
     "name": "stdout",
     "output_type": "stream",
     "text": [
      "\n",
      "Gradient Boosting Results:\n",
      " MAE: 0.7218419973681082, MSE: 0.7223671217790043, R² Score: 0.31559797173222837\n"
     ]
    }
   ],
   "source": [
    "# Evaluate Gradient Boosting\n",
    "gb_results = evaluate_model(y_test, gb_predictions)\n",
    "print(f\"\\nGradient Boosting Results:\\n MAE: {gb_results['MAE']}, MSE: {gb_results['MSE']}, R² Score: {gb_results['R² Score']}\")"
   ]
  },
  {
   "cell_type": "code",
   "execution_count": 16,
   "id": "847c48c9",
   "metadata": {
    "execution": {
     "iopub.execute_input": "2024-10-01T11:04:04.039578Z",
     "iopub.status.busy": "2024-10-01T11:04:04.038735Z",
     "iopub.status.idle": "2024-10-01T11:04:04.048622Z",
     "shell.execute_reply": "2024-10-01T11:04:04.047184Z"
    },
    "papermill": {
     "duration": 0.025406,
     "end_time": "2024-10-01T11:04:04.051227",
     "exception": false,
     "start_time": "2024-10-01T11:04:04.025821",
     "status": "completed"
    },
    "tags": []
   },
   "outputs": [
    {
     "name": "stdout",
     "output_type": "stream",
     "text": [
      "\n",
      "XGBoost Results:\n",
      " MAE: 0.7307955987620353, MSE: 0.7475764921631317, R² Score: 0.2917135178277376\n"
     ]
    }
   ],
   "source": [
    "# Evaluate XGBoost\n",
    "xgb_results = evaluate_model(y_test, xgb_predictions)\n",
    "print(f\"\\nXGBoost Results:\\n MAE: {xgb_results['MAE']}, MSE: {xgb_results['MSE']}, R² Score: {xgb_results['R² Score']}\")"
   ]
  },
  {
   "cell_type": "code",
   "execution_count": 17,
   "id": "5b2b7d3a",
   "metadata": {
    "execution": {
     "iopub.execute_input": "2024-10-01T11:04:04.076908Z",
     "iopub.status.busy": "2024-10-01T11:04:04.075682Z",
     "iopub.status.idle": "2024-10-01T11:04:04.081388Z",
     "shell.execute_reply": "2024-10-01T11:04:04.080237Z"
    },
    "papermill": {
     "duration": 0.021196,
     "end_time": "2024-10-01T11:04:04.083898",
     "exception": false,
     "start_time": "2024-10-01T11:04:04.062702",
     "status": "completed"
    },
    "tags": []
   },
   "outputs": [],
   "source": [
    "# Step 5: Hyperparameter Tuning (Optional)\n",
    "from sklearn.model_selection import GridSearchCV"
   ]
  },
  {
   "cell_type": "code",
   "execution_count": 18,
   "id": "7a9194c5",
   "metadata": {
    "execution": {
     "iopub.execute_input": "2024-10-01T11:04:04.108918Z",
     "iopub.status.busy": "2024-10-01T11:04:04.108078Z",
     "iopub.status.idle": "2024-10-01T11:04:04.114430Z",
     "shell.execute_reply": "2024-10-01T11:04:04.113300Z"
    },
    "papermill": {
     "duration": 0.021606,
     "end_time": "2024-10-01T11:04:04.116868",
     "exception": false,
     "start_time": "2024-10-01T11:04:04.095262",
     "status": "completed"
    },
    "tags": []
   },
   "outputs": [],
   "source": [
    "# Example: Hyperparameter tuning for Random Forest\n",
    "param_grid = {\n",
    "    'n_estimators': [50, 100, 200],\n",
    "    'max_depth': [None, 10, 20, 30],\n",
    "    'min_samples_split': [2, 5, 10],\n",
    "    'min_samples_leaf': [1, 2, 4]\n",
    "}"
   ]
  },
  {
   "cell_type": "code",
   "execution_count": 19,
   "id": "42860d3d",
   "metadata": {
    "execution": {
     "iopub.execute_input": "2024-10-01T11:04:04.141941Z",
     "iopub.status.busy": "2024-10-01T11:04:04.141444Z",
     "iopub.status.idle": "2024-10-01T11:12:19.370474Z",
     "shell.execute_reply": "2024-10-01T11:12:19.369003Z"
    },
    "papermill": {
     "duration": 495.256399,
     "end_time": "2024-10-01T11:12:19.384820",
     "exception": false,
     "start_time": "2024-10-01T11:04:04.128421",
     "status": "completed"
    },
    "tags": []
   },
   "outputs": [
    {
     "name": "stdout",
     "output_type": "stream",
     "text": [
      "\n",
      "Best Parameters for Random Forest: {'max_depth': 10, 'min_samples_leaf': 4, 'min_samples_split': 10, 'n_estimators': 100}\n"
     ]
    }
   ],
   "source": [
    "# Perform GridSearchCV\n",
    "grid_search = GridSearchCV(estimator=rf_model, param_grid=param_grid, cv=3, n_jobs=-1, scoring='r2')\n",
    "grid_search.fit(X_train, y_train)\n",
    "print(f\"\\nBest Parameters for Random Forest: {grid_search.best_params_}\")"
   ]
  },
  {
   "cell_type": "code",
   "execution_count": 20,
   "id": "d91b8597",
   "metadata": {
    "execution": {
     "iopub.execute_input": "2024-10-01T11:12:19.410235Z",
     "iopub.status.busy": "2024-10-01T11:12:19.409665Z",
     "iopub.status.idle": "2024-10-01T11:12:19.443307Z",
     "shell.execute_reply": "2024-10-01T11:12:19.441995Z"
    },
    "papermill": {
     "duration": 0.050135,
     "end_time": "2024-10-01T11:12:19.446389",
     "exception": false,
     "start_time": "2024-10-01T11:12:19.396254",
     "status": "completed"
    },
    "tags": []
   },
   "outputs": [
    {
     "name": "stdout",
     "output_type": "stream",
     "text": [
      "Random Forest Predictions After Hyperparameter Tuning:\n",
      " [1.58128752 3.04962914 2.33568608 3.12080339 1.51360225]\n"
     ]
    }
   ],
   "source": [
    "# Predict using the tuned model\n",
    "best_rf_predictions = grid_search.best_estimator_.predict(X_test)\n",
    "print(f\"Random Forest Predictions After Hyperparameter Tuning:\\n {best_rf_predictions[:5]}\")"
   ]
  },
  {
   "cell_type": "code",
   "execution_count": 21,
   "id": "e125204f",
   "metadata": {
    "execution": {
     "iopub.execute_input": "2024-10-01T11:12:19.472153Z",
     "iopub.status.busy": "2024-10-01T11:12:19.471147Z",
     "iopub.status.idle": "2024-10-01T11:12:34.705531Z",
     "shell.execute_reply": "2024-10-01T11:12:34.704025Z"
    },
    "papermill": {
     "duration": 15.251109,
     "end_time": "2024-10-01T11:12:34.709003",
     "exception": false,
     "start_time": "2024-10-01T11:12:19.457894",
     "status": "completed"
    },
    "tags": []
   },
   "outputs": [],
   "source": [
    "# Optional: Deep Learning Model with TensorFlow (For Advanced Users)\n",
    "from tensorflow.keras.models import Sequential\n",
    "from tensorflow.keras.layers import Dense"
   ]
  },
  {
   "cell_type": "code",
   "execution_count": 22,
   "id": "fbcf0c7a",
   "metadata": {
    "execution": {
     "iopub.execute_input": "2024-10-01T11:12:34.735131Z",
     "iopub.status.busy": "2024-10-01T11:12:34.734197Z",
     "iopub.status.idle": "2024-10-01T11:12:34.843973Z",
     "shell.execute_reply": "2024-10-01T11:12:34.842653Z"
    },
    "papermill": {
     "duration": 0.126305,
     "end_time": "2024-10-01T11:12:34.847223",
     "exception": false,
     "start_time": "2024-10-01T11:12:34.720918",
     "status": "completed"
    },
    "tags": []
   },
   "outputs": [
    {
     "name": "stderr",
     "output_type": "stream",
     "text": [
      "/opt/conda/lib/python3.10/site-packages/keras/src/layers/core/dense.py:87: UserWarning: Do not pass an `input_shape`/`input_dim` argument to a layer. When using Sequential models, prefer using an `Input(shape)` object as the first layer in the model instead.\n",
      "  super().__init__(activity_regularizer=activity_regularizer, **kwargs)\n"
     ]
    }
   ],
   "source": [
    "# Create a Sequential Model\n",
    "model = Sequential()\n",
    "model.add(Dense(64, activation='relu', input_dim=X_train.shape[1]))\n",
    "model.add(Dense(32, activation='relu'))\n",
    "model.add(Dense(1))  # Output layer for regression"
   ]
  },
  {
   "cell_type": "code",
   "execution_count": 23,
   "id": "fcf91362",
   "metadata": {
    "execution": {
     "iopub.execute_input": "2024-10-01T11:12:34.873117Z",
     "iopub.status.busy": "2024-10-01T11:12:34.871954Z",
     "iopub.status.idle": "2024-10-01T11:12:34.892311Z",
     "shell.execute_reply": "2024-10-01T11:12:34.890721Z"
    },
    "papermill": {
     "duration": 0.036611,
     "end_time": "2024-10-01T11:12:34.895304",
     "exception": false,
     "start_time": "2024-10-01T11:12:34.858693",
     "status": "completed"
    },
    "tags": []
   },
   "outputs": [
    {
     "name": "stdout",
     "output_type": "stream",
     "text": [
      "\n",
      "Neural Network Model Compiled Successfully.\n",
      "\n"
     ]
    }
   ],
   "source": [
    "# Compile the Model\n",
    "model.compile(optimizer='adam', loss='mse')\n",
    "print(\"\\nNeural Network Model Compiled Successfully.\\n\")"
   ]
  },
  {
   "cell_type": "code",
   "execution_count": 24,
   "id": "ae145c33",
   "metadata": {
    "execution": {
     "iopub.execute_input": "2024-10-01T11:12:34.921194Z",
     "iopub.status.busy": "2024-10-01T11:12:34.920643Z",
     "iopub.status.idle": "2024-10-01T11:13:29.769364Z",
     "shell.execute_reply": "2024-10-01T11:13:29.767906Z"
    },
    "papermill": {
     "duration": 54.864931,
     "end_time": "2024-10-01T11:13:29.772189",
     "exception": false,
     "start_time": "2024-10-01T11:12:34.907258",
     "status": "completed"
    },
    "tags": []
   },
   "outputs": [
    {
     "name": "stdout",
     "output_type": "stream",
     "text": [
      "Epoch 1/50\n",
      "\u001b[1m640/640\u001b[0m \u001b[32m━━━━━━━━━━━━━━━━━━━━\u001b[0m\u001b[37m\u001b[0m \u001b[1m2s\u001b[0m 2ms/step - loss: 383.8731 - val_loss: 1.7500\n",
      "Epoch 2/50\n",
      "\u001b[1m640/640\u001b[0m \u001b[32m━━━━━━━━━━━━━━━━━━━━\u001b[0m\u001b[37m\u001b[0m \u001b[1m1s\u001b[0m 2ms/step - loss: 2.4617 - val_loss: 1.6808\n",
      "Epoch 3/50\n",
      "\u001b[1m640/640\u001b[0m \u001b[32m━━━━━━━━━━━━━━━━━━━━\u001b[0m\u001b[37m\u001b[0m \u001b[1m1s\u001b[0m 2ms/step - loss: 2.0594 - val_loss: 1.2731\n",
      "Epoch 4/50\n",
      "\u001b[1m640/640\u001b[0m \u001b[32m━━━━━━━━━━━━━━━━━━━━\u001b[0m\u001b[37m\u001b[0m \u001b[1m1s\u001b[0m 2ms/step - loss: 2.3945 - val_loss: 1.1830\n",
      "Epoch 5/50\n",
      "\u001b[1m640/640\u001b[0m \u001b[32m━━━━━━━━━━━━━━━━━━━━\u001b[0m\u001b[37m\u001b[0m \u001b[1m1s\u001b[0m 2ms/step - loss: 3.8660 - val_loss: 1.8004\n",
      "Epoch 6/50\n",
      "\u001b[1m640/640\u001b[0m \u001b[32m━━━━━━━━━━━━━━━━━━━━\u001b[0m\u001b[37m\u001b[0m \u001b[1m1s\u001b[0m 2ms/step - loss: 2.6262 - val_loss: 1.3648\n",
      "Epoch 7/50\n",
      "\u001b[1m640/640\u001b[0m \u001b[32m━━━━━━━━━━━━━━━━━━━━\u001b[0m\u001b[37m\u001b[0m \u001b[1m1s\u001b[0m 2ms/step - loss: 3.2240 - val_loss: 2.8801\n",
      "Epoch 8/50\n",
      "\u001b[1m640/640\u001b[0m \u001b[32m━━━━━━━━━━━━━━━━━━━━\u001b[0m\u001b[37m\u001b[0m \u001b[1m1s\u001b[0m 2ms/step - loss: 3.2718 - val_loss: 1.4279\n",
      "Epoch 9/50\n",
      "\u001b[1m640/640\u001b[0m \u001b[32m━━━━━━━━━━━━━━━━━━━━\u001b[0m\u001b[37m\u001b[0m \u001b[1m1s\u001b[0m 2ms/step - loss: 2.4726 - val_loss: 1.1786\n",
      "Epoch 10/50\n",
      "\u001b[1m640/640\u001b[0m \u001b[32m━━━━━━━━━━━━━━━━━━━━\u001b[0m\u001b[37m\u001b[0m \u001b[1m1s\u001b[0m 2ms/step - loss: 2.6753 - val_loss: 0.9995\n",
      "Epoch 11/50\n",
      "\u001b[1m640/640\u001b[0m \u001b[32m━━━━━━━━━━━━━━━━━━━━\u001b[0m\u001b[37m\u001b[0m \u001b[1m1s\u001b[0m 2ms/step - loss: 2.2452 - val_loss: 2.8066\n",
      "Epoch 12/50\n",
      "\u001b[1m640/640\u001b[0m \u001b[32m━━━━━━━━━━━━━━━━━━━━\u001b[0m\u001b[37m\u001b[0m \u001b[1m1s\u001b[0m 2ms/step - loss: 3.7031 - val_loss: 5.8068\n",
      "Epoch 13/50\n",
      "\u001b[1m640/640\u001b[0m \u001b[32m━━━━━━━━━━━━━━━━━━━━\u001b[0m\u001b[37m\u001b[0m \u001b[1m1s\u001b[0m 2ms/step - loss: 2.9575 - val_loss: 1.0167\n",
      "Epoch 14/50\n",
      "\u001b[1m640/640\u001b[0m \u001b[32m━━━━━━━━━━━━━━━━━━━━\u001b[0m\u001b[37m\u001b[0m \u001b[1m1s\u001b[0m 2ms/step - loss: 2.1629 - val_loss: 1.9579\n",
      "Epoch 15/50\n",
      "\u001b[1m640/640\u001b[0m \u001b[32m━━━━━━━━━━━━━━━━━━━━\u001b[0m\u001b[37m\u001b[0m \u001b[1m1s\u001b[0m 2ms/step - loss: 2.5624 - val_loss: 0.9585\n",
      "Epoch 16/50\n",
      "\u001b[1m640/640\u001b[0m \u001b[32m━━━━━━━━━━━━━━━━━━━━\u001b[0m\u001b[37m\u001b[0m \u001b[1m1s\u001b[0m 2ms/step - loss: 2.9503 - val_loss: 0.9649\n",
      "Epoch 17/50\n",
      "\u001b[1m640/640\u001b[0m \u001b[32m━━━━━━━━━━━━━━━━━━━━\u001b[0m\u001b[37m\u001b[0m \u001b[1m1s\u001b[0m 2ms/step - loss: 2.8553 - val_loss: 1.0145\n",
      "Epoch 18/50\n",
      "\u001b[1m640/640\u001b[0m \u001b[32m━━━━━━━━━━━━━━━━━━━━\u001b[0m\u001b[37m\u001b[0m \u001b[1m1s\u001b[0m 2ms/step - loss: 2.1094 - val_loss: 2.5095\n",
      "Epoch 19/50\n",
      "\u001b[1m640/640\u001b[0m \u001b[32m━━━━━━━━━━━━━━━━━━━━\u001b[0m\u001b[37m\u001b[0m \u001b[1m1s\u001b[0m 2ms/step - loss: 3.7027 - val_loss: 2.6306\n",
      "Epoch 20/50\n",
      "\u001b[1m640/640\u001b[0m \u001b[32m━━━━━━━━━━━━━━━━━━━━\u001b[0m\u001b[37m\u001b[0m \u001b[1m1s\u001b[0m 2ms/step - loss: 2.7046 - val_loss: 2.4964\n",
      "Epoch 21/50\n",
      "\u001b[1m640/640\u001b[0m \u001b[32m━━━━━━━━━━━━━━━━━━━━\u001b[0m\u001b[37m\u001b[0m \u001b[1m1s\u001b[0m 2ms/step - loss: 2.0086 - val_loss: 2.1475\n",
      "Epoch 22/50\n",
      "\u001b[1m640/640\u001b[0m \u001b[32m━━━━━━━━━━━━━━━━━━━━\u001b[0m\u001b[37m\u001b[0m \u001b[1m1s\u001b[0m 2ms/step - loss: 1.7971 - val_loss: 4.5553\n",
      "Epoch 23/50\n",
      "\u001b[1m640/640\u001b[0m \u001b[32m━━━━━━━━━━━━━━━━━━━━\u001b[0m\u001b[37m\u001b[0m \u001b[1m1s\u001b[0m 2ms/step - loss: 1.8968 - val_loss: 1.5839\n",
      "Epoch 24/50\n",
      "\u001b[1m640/640\u001b[0m \u001b[32m━━━━━━━━━━━━━━━━━━━━\u001b[0m\u001b[37m\u001b[0m \u001b[1m1s\u001b[0m 2ms/step - loss: 1.8746 - val_loss: 1.8799\n",
      "Epoch 25/50\n",
      "\u001b[1m640/640\u001b[0m \u001b[32m━━━━━━━━━━━━━━━━━━━━\u001b[0m\u001b[37m\u001b[0m \u001b[1m1s\u001b[0m 2ms/step - loss: 2.6686 - val_loss: 1.8351\n",
      "Epoch 26/50\n",
      "\u001b[1m640/640\u001b[0m \u001b[32m━━━━━━━━━━━━━━━━━━━━\u001b[0m\u001b[37m\u001b[0m \u001b[1m1s\u001b[0m 2ms/step - loss: 1.8262 - val_loss: 2.2653\n",
      "Epoch 27/50\n",
      "\u001b[1m640/640\u001b[0m \u001b[32m━━━━━━━━━━━━━━━━━━━━\u001b[0m\u001b[37m\u001b[0m \u001b[1m1s\u001b[0m 2ms/step - loss: 2.0511 - val_loss: 5.3211\n",
      "Epoch 28/50\n",
      "\u001b[1m640/640\u001b[0m \u001b[32m━━━━━━━━━━━━━━━━━━━━\u001b[0m\u001b[37m\u001b[0m \u001b[1m1s\u001b[0m 2ms/step - loss: 2.1797 - val_loss: 0.9905\n",
      "Epoch 29/50\n",
      "\u001b[1m640/640\u001b[0m \u001b[32m━━━━━━━━━━━━━━━━━━━━\u001b[0m\u001b[37m\u001b[0m \u001b[1m1s\u001b[0m 2ms/step - loss: 1.3428 - val_loss: 0.9592\n",
      "Epoch 30/50\n",
      "\u001b[1m640/640\u001b[0m \u001b[32m━━━━━━━━━━━━━━━━━━━━\u001b[0m\u001b[37m\u001b[0m \u001b[1m1s\u001b[0m 2ms/step - loss: 1.5008 - val_loss: 2.1406\n",
      "Epoch 31/50\n",
      "\u001b[1m640/640\u001b[0m \u001b[32m━━━━━━━━━━━━━━━━━━━━\u001b[0m\u001b[37m\u001b[0m \u001b[1m1s\u001b[0m 2ms/step - loss: 1.7746 - val_loss: 4.0917\n",
      "Epoch 32/50\n",
      "\u001b[1m640/640\u001b[0m \u001b[32m━━━━━━━━━━━━━━━━━━━━\u001b[0m\u001b[37m\u001b[0m \u001b[1m1s\u001b[0m 2ms/step - loss: 1.8181 - val_loss: 0.9598\n",
      "Epoch 33/50\n",
      "\u001b[1m640/640\u001b[0m \u001b[32m━━━━━━━━━━━━━━━━━━━━\u001b[0m\u001b[37m\u001b[0m \u001b[1m1s\u001b[0m 2ms/step - loss: 1.3687 - val_loss: 1.2691\n",
      "Epoch 34/50\n",
      "\u001b[1m640/640\u001b[0m \u001b[32m━━━━━━━━━━━━━━━━━━━━\u001b[0m\u001b[37m\u001b[0m \u001b[1m1s\u001b[0m 2ms/step - loss: 2.1538 - val_loss: 1.5442\n",
      "Epoch 35/50\n",
      "\u001b[1m640/640\u001b[0m \u001b[32m━━━━━━━━━━━━━━━━━━━━\u001b[0m\u001b[37m\u001b[0m \u001b[1m1s\u001b[0m 2ms/step - loss: 1.3727 - val_loss: 1.8870\n",
      "Epoch 36/50\n",
      "\u001b[1m640/640\u001b[0m \u001b[32m━━━━━━━━━━━━━━━━━━━━\u001b[0m\u001b[37m\u001b[0m \u001b[1m1s\u001b[0m 2ms/step - loss: 1.3696 - val_loss: 1.0139\n",
      "Epoch 37/50\n",
      "\u001b[1m640/640\u001b[0m \u001b[32m━━━━━━━━━━━━━━━━━━━━\u001b[0m\u001b[37m\u001b[0m \u001b[1m1s\u001b[0m 2ms/step - loss: 1.5127 - val_loss: 0.9408\n",
      "Epoch 38/50\n",
      "\u001b[1m640/640\u001b[0m \u001b[32m━━━━━━━━━━━━━━━━━━━━\u001b[0m\u001b[37m\u001b[0m \u001b[1m1s\u001b[0m 2ms/step - loss: 1.4338 - val_loss: 1.7517\n",
      "Epoch 39/50\n",
      "\u001b[1m640/640\u001b[0m \u001b[32m━━━━━━━━━━━━━━━━━━━━\u001b[0m\u001b[37m\u001b[0m \u001b[1m1s\u001b[0m 2ms/step - loss: 1.4102 - val_loss: 1.1324\n",
      "Epoch 40/50\n",
      "\u001b[1m640/640\u001b[0m \u001b[32m━━━━━━━━━━━━━━━━━━━━\u001b[0m\u001b[37m\u001b[0m \u001b[1m1s\u001b[0m 2ms/step - loss: 1.2465 - val_loss: 0.9621\n",
      "Epoch 41/50\n",
      "\u001b[1m640/640\u001b[0m \u001b[32m━━━━━━━━━━━━━━━━━━━━\u001b[0m\u001b[37m\u001b[0m \u001b[1m1s\u001b[0m 2ms/step - loss: 1.3847 - val_loss: 2.2033\n",
      "Epoch 42/50\n",
      "\u001b[1m640/640\u001b[0m \u001b[32m━━━━━━━━━━━━━━━━━━━━\u001b[0m\u001b[37m\u001b[0m \u001b[1m1s\u001b[0m 2ms/step - loss: 1.4923 - val_loss: 1.1737\n",
      "Epoch 43/50\n",
      "\u001b[1m640/640\u001b[0m \u001b[32m━━━━━━━━━━━━━━━━━━━━\u001b[0m\u001b[37m\u001b[0m \u001b[1m1s\u001b[0m 2ms/step - loss: 1.1682 - val_loss: 1.3510\n",
      "Epoch 44/50\n",
      "\u001b[1m640/640\u001b[0m \u001b[32m━━━━━━━━━━━━━━━━━━━━\u001b[0m\u001b[37m\u001b[0m \u001b[1m1s\u001b[0m 2ms/step - loss: 1.2164 - val_loss: 1.5622\n",
      "Epoch 45/50\n",
      "\u001b[1m640/640\u001b[0m \u001b[32m━━━━━━━━━━━━━━━━━━━━\u001b[0m\u001b[37m\u001b[0m \u001b[1m1s\u001b[0m 2ms/step - loss: 1.2215 - val_loss: 1.0216\n",
      "Epoch 46/50\n",
      "\u001b[1m640/640\u001b[0m \u001b[32m━━━━━━━━━━━━━━━━━━━━\u001b[0m\u001b[37m\u001b[0m \u001b[1m1s\u001b[0m 2ms/step - loss: 1.2092 - val_loss: 1.2247\n",
      "Epoch 47/50\n",
      "\u001b[1m640/640\u001b[0m \u001b[32m━━━━━━━━━━━━━━━━━━━━\u001b[0m\u001b[37m\u001b[0m \u001b[1m1s\u001b[0m 2ms/step - loss: 1.1132 - val_loss: 0.9298\n",
      "Epoch 48/50\n",
      "\u001b[1m640/640\u001b[0m \u001b[32m━━━━━━━━━━━━━━━━━━━━\u001b[0m\u001b[37m\u001b[0m \u001b[1m1s\u001b[0m 2ms/step - loss: 1.1425 - val_loss: 1.1577\n",
      "Epoch 49/50\n",
      "\u001b[1m640/640\u001b[0m \u001b[32m━━━━━━━━━━━━━━━━━━━━\u001b[0m\u001b[37m\u001b[0m \u001b[1m1s\u001b[0m 2ms/step - loss: 1.1193 - val_loss: 0.8943\n",
      "Epoch 50/50\n",
      "\u001b[1m640/640\u001b[0m \u001b[32m━━━━━━━━━━━━━━━━━━━━\u001b[0m\u001b[37m\u001b[0m \u001b[1m1s\u001b[0m 2ms/step - loss: 1.0274 - val_loss: 0.8841\n",
      "Neural Network Model Trained Successfully.\n",
      "\n"
     ]
    }
   ],
   "source": [
    "# Train the Model\n",
    "model.fit(X_train, y_train, epochs=50, batch_size=10, validation_split=0.2)\n",
    "print(\"Neural Network Model Trained Successfully.\\n\")"
   ]
  },
  {
   "cell_type": "code",
   "execution_count": 25,
   "id": "e3c36729",
   "metadata": {
    "execution": {
     "iopub.execute_input": "2024-10-01T11:13:29.985963Z",
     "iopub.status.busy": "2024-10-01T11:13:29.984740Z",
     "iopub.status.idle": "2024-10-01T11:13:30.269425Z",
     "shell.execute_reply": "2024-10-01T11:13:30.268285Z"
    },
    "papermill": {
     "duration": 0.395898,
     "end_time": "2024-10-01T11:13:30.272631",
     "exception": false,
     "start_time": "2024-10-01T11:13:29.876733",
     "status": "completed"
    },
    "tags": []
   },
   "outputs": [
    {
     "name": "stdout",
     "output_type": "stream",
     "text": [
      "\u001b[1m63/63\u001b[0m \u001b[32m━━━━━━━━━━━━━━━━━━━━\u001b[0m\u001b[37m\u001b[0m \u001b[1m0s\u001b[0m 2ms/step\n",
      "Neural Network Predictions (First 5 values):\n",
      " [[1.5701978]\n",
      " [2.5063422]\n",
      " [2.036725 ]\n",
      " [2.8084366]\n",
      " [1.6671288]]\n"
     ]
    }
   ],
   "source": [
    "# Predict on Test Set\n",
    "nn_predictions = model.predict(X_test)\n",
    "print(f\"Neural Network Predictions (First 5 values):\\n {nn_predictions[:5]}\")"
   ]
  },
  {
   "cell_type": "code",
   "execution_count": 26,
   "id": "18223e5c",
   "metadata": {
    "execution": {
     "iopub.execute_input": "2024-10-01T11:13:30.481631Z",
     "iopub.status.busy": "2024-10-01T11:13:30.481115Z",
     "iopub.status.idle": "2024-10-01T11:13:30.490977Z",
     "shell.execute_reply": "2024-10-01T11:13:30.489681Z"
    },
    "papermill": {
     "duration": 0.118176,
     "end_time": "2024-10-01T11:13:30.493551",
     "exception": false,
     "start_time": "2024-10-01T11:13:30.375375",
     "status": "completed"
    },
    "tags": []
   },
   "outputs": [
    {
     "name": "stdout",
     "output_type": "stream",
     "text": [
      "\n",
      "Neural Network Results:\n",
      " MAE: 0.8012218097395898, MSE: 0.9530416988649132, R² Score: 0.09704684493315274\n"
     ]
    }
   ],
   "source": [
    "# Evaluate the Neural Network Model\n",
    "nn_results = evaluate_model(y_test, nn_predictions)\n",
    "print(f\"\\nNeural Network Results:\\n MAE: {nn_results['MAE']}, MSE: {nn_results['MSE']}, R² Score: {nn_results['R² Score']}\")"
   ]
  },
  {
   "cell_type": "code",
   "execution_count": null,
   "id": "d49171a1",
   "metadata": {
    "papermill": {
     "duration": 0.102039,
     "end_time": "2024-10-01T11:13:30.698837",
     "exception": false,
     "start_time": "2024-10-01T11:13:30.596798",
     "status": "completed"
    },
    "tags": []
   },
   "outputs": [],
   "source": []
  }
 ],
 "metadata": {
  "kaggle": {
   "accelerator": "none",
   "dataSources": [
    {
     "datasetId": 5655659,
     "sourceId": 9333642,
     "sourceType": "datasetVersion"
    }
   ],
   "dockerImageVersionId": 30775,
   "isGpuEnabled": false,
   "isInternetEnabled": true,
   "language": "python",
   "sourceType": "notebook"
  },
  "kernelspec": {
   "display_name": "Python 3",
   "language": "python",
   "name": "python3"
  },
  "language_info": {
   "codemirror_mode": {
    "name": "ipython",
    "version": 3
   },
   "file_extension": ".py",
   "mimetype": "text/x-python",
   "name": "python",
   "nbconvert_exporter": "python",
   "pygments_lexer": "ipython3",
   "version": "3.10.14"
  },
  "papermill": {
   "default_parameters": {},
   "duration": 589.398433,
   "end_time": "2024-10-01T11:13:33.427427",
   "environment_variables": {},
   "exception": null,
   "input_path": "__notebook__.ipynb",
   "output_path": "__notebook__.ipynb",
   "parameters": {},
   "start_time": "2024-10-01T11:03:44.028994",
   "version": "2.6.0"
  }
 },
 "nbformat": 4,
 "nbformat_minor": 5
}
